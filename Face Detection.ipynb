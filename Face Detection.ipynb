{
 "cells": [
  {
   "cell_type": "markdown",
   "metadata": {},
   "source": [
    "# Human Face Detection"
   ]
  },
  {
   "cell_type": "code",
   "execution_count": 5,
   "metadata": {},
   "outputs": [],
   "source": [
    "import cv2\n",
    "import numpy as np\n",
    "\n",
    "# Create the Haar Cascade Classifier objects\n",
    "face_cascade = cv2.CascadeClassifier('haarcascade_frontalface_default.xml')\n",
    "eye_cascade = cv2.CascadeClassifier('haarcascade_eye.xml')\n",
    "\n",
    "def face_detect(gray_img, frame):\n",
    "# Params -> Image, Scale-Factor- image size need to be decreased/features size need to be increased, Minimum no. of neighbours\n",
    "# In order for a zone of pixels to be accepted, a certain zone of neighboring pixels need to be accepted as well.\n",
    "# Params numbers -> from experimentation\n",
    "# 'detectMultiScale' returns array of arrays of 4 co-ordinates of every instance of the detected object (face/eyes in this case)\n",
    "    faces = face_cascade.detectMultiScale(gray_img, 1.3, 5)\n",
    "    for (x, y, w, h) in faces:\n",
    "# 'rectangle' I/P params -> Image, upper-left point, lower-right point, color (B,G,R), thickness of the borderline\n",
    "# O/P -> updates the frame with the rectangle drawn\n",
    "        cv2.rectangle(frame, (x, y), (x+w, y+h), (0, 255, 0), 2)\n",
    "        roi_gray = gray_img[y:y+h, x:x+w]\n",
    "        roi_color = frame[y:y+h, x:x+w]\n",
    "        \n",
    "# Detect eyes in the Region of interest - the face in the frame (computationally efficient)\n",
    "        eyes = eye_cascade.detectMultiScale(roi_gray, 1.1, 5)\n",
    "        for (ex, ey, ew, eh) in eyes:\n",
    "            cv2.rectangle(roi_color, (ex, ey), (ex+ew, ey+eh), (255, 0, 0), 2)\n",
    "    return frame\n",
    "\n",
    "# Capture data from the Primary WebCam\n",
    "video_capture = cv2.VideoCapture(0)\n",
    "while True:\n",
    "    _, frame = video_capture.read()\n",
    "    gray_img = cv2.cvtColor(frame, cv2.COLOR_BGR2GRAY)  # Convert to grayscale image\n",
    "    face_frame = face_detect(gray_img, frame)\n",
    "    cv2.imshow(\"Face Detection\", face_frame)\n",
    "    if cv2.waitKey(1) & 0xFF == ord('q'):\n",
    "        break\n",
    "video_capture.release()\n",
    "cv2.destroyAllWindows()"
   ]
  }
 ],
 "metadata": {
  "kernelspec": {
   "display_name": "Python 3",
   "language": "python",
   "name": "python3"
  },
  "language_info": {
   "codemirror_mode": {
    "name": "ipython",
    "version": 3
   },
   "file_extension": ".py",
   "mimetype": "text/x-python",
   "name": "python",
   "nbconvert_exporter": "python",
   "pygments_lexer": "ipython3",
   "version": "3.6.4"
  }
 },
 "nbformat": 4,
 "nbformat_minor": 2
}
